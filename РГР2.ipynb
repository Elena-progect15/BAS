{
  "nbformat": 4,
  "nbformat_minor": 0,
  "metadata": {
    "colab": {
      "name": "РГР2",
      "provenance": [],
      "collapsed_sections": []
    },
    "kernelspec": {
      "name": "python3",
      "display_name": "Python 3"
    },
    "language_info": {
      "name": "python"
    }
  },
  "cells": [
    {
      "cell_type": "code",
      "execution_count": null,
      "metadata": {
        "id": "J8VuHbk0CDBb"
      },
      "outputs": [],
      "source": [
        ""
      ]
    },
    {
      "cell_type": "markdown",
      "source": [
        "#Заголовок первого уровня\n",
        "##Заголовок второго уровня\n",
        "###Заголовок третьего уровня\n",
        "\n",
        "#Греческий алфавит\n",
        "##1)\n",
        "Прописные|Строчные|Название\n",
        "--|--|--\n",
        "A|$\\alpha$|Альфа\n",
        "\n",
        "##2)\n",
        "|Прописные|Строчные|Название|\n",
        "|--|:--:|--:|\n",
        "|A|$\\alpha$|Альфа|\n",
        "|A|по центру|вправо|\n",
        "\n",
        "\n",
        "#Формула нормального распределения\n",
        "\n",
        "\\begin{eqnarray}\n",
        "{\\displaystyle f(x)={\\frac{1}{\\sigma{\\sqrt{2\\pi}}}}e^{-{\\frac{1}{2}}\\left({\\frac{x-\\mu}{\\sigma}}\\right)^{2}}}\n",
        "\\end{eqnarray}\n",
        "\n",
        "\n",
        "#Формула в отдельной строке $${\\displaystyle f(x)={\\frac{1}{\\sigma{\\sqrt{2\\pi}}}}e^{-{\\frac{1}{2}}\\left({\\frac{x-\\mu}{\\sigma}}\\right)^{2}}}$$\n",
        "\n",
        "Формула в ${\\displaystyle f(x)={\\frac{1}{\\sigma{\\sqrt{2\\pi}}}}e^{-{\\frac{1}{2}}\\left({\\frac{x-\\mu}{\\sigma}}\\right)^{2}}}$ тексте\n",
        "\n",
        "\n"
      ],
      "metadata": {
        "id": "beSeB7l_CD7w"
      }
    }
  ]
}